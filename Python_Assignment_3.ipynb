{
 "cells": [
  {
   "cell_type": "code",
   "execution_count": 1,
   "metadata": {},
   "outputs": [
    {
     "name": "stdout",
     "output_type": "stream",
     "text": [
      "10\n"
     ]
    }
   ],
   "source": [
    "def myreduce(func, lists):\n",
    "    x = lists[0]\n",
    "    for i in lists[1:]:\n",
    "        x = func(x, i)\n",
    "    return x\n",
    "\n",
    "def add(x1, x2):\n",
    "    return x1 + x2\n",
    "\n",
    "\n",
    "ans = myreduce(add, [1, 2, 3, 4])\n",
    "print(ans)"
   ]
  },
  {
   "cell_type": "code",
   "execution_count": 2,
   "metadata": {},
   "outputs": [
    {
     "name": "stdout",
     "output_type": "stream",
     "text": [
      "[22, 21]\n"
     ]
    }
   ],
   "source": [
    "def myfilter(func, sequence):\n",
    "    x = []\n",
    "    for number in sequence:\n",
    "        if func(number):\n",
    "            x.append(number)\n",
    "    return x\n",
    "\n",
    "def myFunc(x):\n",
    "    if x < 18:\n",
    "        return False\n",
    "    else:\n",
    "        return True\n",
    "\n",
    "\n",
    "print(myfilter(myFunc, [22, 13, 21]))"
   ]
  },
  {
   "cell_type": "code",
   "execution_count": 3,
   "metadata": {},
   "outputs": [
    {
     "name": "stdout",
     "output_type": "stream",
     "text": [
      "['x', 'xx', 'xxx', 'xxxx', 'y', 'yy', 'yyy', 'yyyy', 'z', 'zz', 'zzz', 'zzzz']\n",
      "['x', 'y', 'z', 'xx', 'yy', 'zz', 'xxx', 'yyy', 'zzz', 'xxxx', 'yyyy', 'zzzz']\n",
      "[[2], [3], [4], [3], [4], [5], [4], [5], [6]]\n",
      "[[2, 3, 4, 5], [3, 4, 5, 6], [4, 5, 6, 7], [5, 6, 7, 8]]\n",
      "[(1, 1), (2, 1), (3, 1), (1, 2), (2, 2), (3, 2), (1, 3), (2, 3), (3, 3)]\n"
     ]
    }
   ],
   "source": [
    "seq = [a * i for a in ['x', 'y', 'z'] for i in range(1, 5)]\n",
    "print(seq)\n",
    "\n",
    "seq1 = [a * i for i in range(1, 5) for a in ['x', 'y', 'z']]\n",
    "print(seq1)\n",
    "\n",
    "seq2 = [[i + a] for i in range(2, 5) for a in range(3)]\n",
    "print(seq2)\n",
    "\n",
    "seq3 = [[a + i for a in range(2, 6)]for i in range(4)]\n",
    "print(seq3)\n",
    "\n",
    "seq4 = [(b, a) for a in range(1, 4) for b in range(1, 4)]\n",
    "print(seq4)"
   ]
  }
 ],
 "metadata": {
  "kernelspec": {
   "display_name": "Python 3",
   "language": "python",
   "name": "python3"
  },
  "language_info": {
   "codemirror_mode": {
    "name": "ipython",
    "version": 3
   },
   "file_extension": ".py",
   "mimetype": "text/x-python",
   "name": "python",
   "nbconvert_exporter": "python",
   "pygments_lexer": "ipython3",
   "version": "3.8.8"
  }
 },
 "nbformat": 4,
 "nbformat_minor": 2
}
