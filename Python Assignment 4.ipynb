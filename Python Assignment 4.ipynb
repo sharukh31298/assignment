{
 "cells": [
  {
   "cell_type": "code",
   "execution_count": 1,
   "id": "80ba0113",
   "metadata": {},
   "outputs": [],
   "source": [
    "#1.2"
   ]
  },
  {
   "cell_type": "code",
   "execution_count": 2,
   "id": "6fc012a6",
   "metadata": {},
   "outputs": [],
   "source": [
    "class input1:\n",
    "    def __init__(self,s,a,b,c):\n",
    "        self.s=s\n",
    "        self.a=a\n",
    "        self.b=b\n",
    "        self.c=c\n",
    "\n",
    "class area(input1):\n",
    "    def area(self):\n",
    "        area = (self.s*(self.s-self.a)*(self.s-self.b)*(self.s-self.c)) ** 0.5\n",
    "        return area"
   ]
  },
  {
   "cell_type": "code",
   "execution_count": 3,
   "id": "cee01c2b",
   "metadata": {},
   "outputs": [],
   "source": [
    "s=area(5,3,3,2)"
   ]
  },
  {
   "cell_type": "code",
   "execution_count": 4,
   "id": "d3447a67",
   "metadata": {},
   "outputs": [
    {
     "data": {
      "text/plain": [
       "7.745966692414834"
      ]
     },
     "execution_count": 4,
     "metadata": {},
     "output_type": "execute_result"
    }
   ],
   "source": [
    "s.area()"
   ]
  },
  {
   "cell_type": "code",
   "execution_count": 5,
   "id": "9a7a223d",
   "metadata": {},
   "outputs": [],
   "source": [
    "#1.2"
   ]
  },
  {
   "cell_type": "code",
   "execution_count": 6,
   "id": "b57c0c89",
   "metadata": {},
   "outputs": [],
   "source": [
    "def filter_long_words():\n",
    "    words= input('Enter the words : ')\n",
    "    words= words.split(' ')\n",
    "    number = int(input('Enter the number :'))\n",
    "    for i in words:\n",
    "        length_word= len(i)\n",
    "        if length_word > number:\n",
    "             print(i)"
   ]
  },
  {
   "cell_type": "code",
   "execution_count": 7,
   "id": "116ddc8a",
   "metadata": {},
   "outputs": [
    {
     "name": "stdout",
     "output_type": "stream",
     "text": [
      "Enter the words : SHARUKH AND MILAN IS NOT FROM TRICHY\n",
      "Enter the number :3\n",
      "SHARUKH\n",
      "MILAN\n",
      "FROM\n",
      "TRICHY\n"
     ]
    }
   ],
   "source": [
    "filter_long_words()"
   ]
  },
  {
   "cell_type": "code",
   "execution_count": 8,
   "id": "a6bbf4fb",
   "metadata": {},
   "outputs": [],
   "source": [
    "#2.1"
   ]
  },
  {
   "cell_type": "code",
   "execution_count": 9,
   "id": "f483fbfa",
   "metadata": {},
   "outputs": [],
   "source": [
    "def list_of_words():\n",
    "    words= input('Enter the words : ')\n",
    "    words= words.split(' ')\n",
    "    list_words=[]\n",
    "    for i in words:\n",
    "        length_word= len(i)\n",
    "        print(length_word)\n",
    "        list_words.append(length_word)\n",
    "    print(list_words)"
   ]
  },
  {
   "cell_type": "code",
   "execution_count": 10,
   "id": "ad8b42fa",
   "metadata": {},
   "outputs": [
    {
     "name": "stdout",
     "output_type": "stream",
     "text": [
      "Enter the words : SHARUKH AND MILAN IS NOT FROM TRICHY\n",
      "7\n",
      "3\n",
      "5\n",
      "2\n",
      "3\n",
      "4\n",
      "6\n",
      "[7, 3, 5, 2, 3, 4, 6]\n"
     ]
    }
   ],
   "source": [
    "list_of_words()"
   ]
  },
  {
   "cell_type": "code",
   "execution_count": 11,
   "id": "4eece333",
   "metadata": {},
   "outputs": [],
   "source": [
    "#2.2"
   ]
  },
  {
   "cell_type": "code",
   "execution_count": 12,
   "id": "1da963ec",
   "metadata": {},
   "outputs": [],
   "source": [
    "def vowel():\n",
    "    x=input()\n",
    "    if len(x) == 1:\n",
    "        if x in ['a','e','i','o','u','A','E','I','O','U']:\n",
    "            return True\n",
    "        else :\n",
    "            return False \n",
    "    else :\n",
    "        print(\"Type only one character\")"
   ]
  },
  {
   "cell_type": "code",
   "execution_count": 15,
   "id": "c376dfcc",
   "metadata": {},
   "outputs": [
    {
     "name": "stdout",
     "output_type": "stream",
     "text": [
      "I\n"
     ]
    },
    {
     "data": {
      "text/plain": [
       "True"
      ]
     },
     "execution_count": 15,
     "metadata": {},
     "output_type": "execute_result"
    }
   ],
   "source": [
    "vowel()"
   ]
  },
  {
   "cell_type": "code",
   "execution_count": null,
   "id": "d856eb08",
   "metadata": {},
   "outputs": [],
   "source": []
  },
  {
   "cell_type": "code",
   "execution_count": null,
   "id": "9a3caf00",
   "metadata": {},
   "outputs": [],
   "source": []
  },
  {
   "cell_type": "code",
   "execution_count": null,
   "id": "df6e6b8a",
   "metadata": {},
   "outputs": [],
   "source": []
  }
 ],
 "metadata": {
  "kernelspec": {
   "display_name": "Python 3",
   "language": "python",
   "name": "python3"
  },
  "language_info": {
   "codemirror_mode": {
    "name": "ipython",
    "version": 3
   },
   "file_extension": ".py",
   "mimetype": "text/x-python",
   "name": "python",
   "nbconvert_exporter": "python",
   "pygments_lexer": "ipython3",
   "version": "3.8.8"
  }
 },
 "nbformat": 4,
 "nbformat_minor": 5
}
