{
 "cells": [
  {
   "cell_type": "code",
   "execution_count": 1,
   "id": "ca29a3e8",
   "metadata": {},
   "outputs": [],
   "source": [
    "  import numpy as np"
   ]
  },
  {
   "cell_type": "code",
   "execution_count": 2,
   "id": "2c3df656",
   "metadata": {},
   "outputs": [],
   "source": [
    "def matrix():\n",
    "    import numpy as np\n",
    "    a=int(input(\"Enter the starting range:\" ))\n",
    "    b=int(input(\"Enter the ending range:\" ))\n",
    "    order=int(input(\"Enter the order:\" ))\n",
    "    arr=np.arange(a,b)\n",
    "    print(arr)\n",
    "    arr1=np.vander(arr,order,increasing=True)\n",
    "    print(\"Increasing is True\\n\", arr1)\n",
    "    arr2=np.vander(arr,order,increasing=False)\n",
    "    print(\"Increasing is False\\n\",arr2)"
   ]
  },
  {
   "cell_type": "code",
   "execution_count": 3,
   "id": "82c79fd8",
   "metadata": {},
   "outputs": [
    {
     "name": "stdout",
     "output_type": "stream",
     "text": [
      "Enter the starting range:1\n",
      "Enter the ending range:6\n",
      "Enter the order:5\n",
      "[1 2 3 4 5]\n",
      "Increasing is True\n",
      " [[  1   1   1   1   1]\n",
      " [  1   2   4   8  16]\n",
      " [  1   3   9  27  81]\n",
      " [  1   4  16  64 256]\n",
      " [  1   5  25 125 625]]\n",
      "Increasing is False\n",
      " [[  1   1   1   1   1]\n",
      " [ 16   8   4   2   1]\n",
      " [ 81  27   9   3   1]\n",
      " [256  64  16   4   1]\n",
      " [625 125  25   5   1]]\n"
     ]
    }
   ],
   "source": [
    "matrix()"
   ]
  },
  {
   "cell_type": "code",
   "execution_count": 4,
   "id": "3eebc5e0",
   "metadata": {},
   "outputs": [
    {
     "data": {
      "text/plain": [
       "array([  3,   5,   7,   2,   8,  10,  11,  65,  72,  81,  99, 100, 150])"
      ]
     },
     "execution_count": 4,
     "metadata": {},
     "output_type": "execute_result"
    }
   ],
   "source": [
    "x=np.array([3, 5, 7, 2, 8, 10, 11, 65, 72, 81, 99, 100, 150])\n",
    "x"
   ]
  },
  {
   "cell_type": "code",
   "execution_count": 5,
   "id": "d07abf18",
   "metadata": {},
   "outputs": [],
   "source": [
    "def moving_average(x):\n",
    "    n= len(x)\n",
    "    k=3\n",
    "    list1=[]\n",
    "    for i in range(n-k+1):\n",
    "        z=np.array(x[i:i+k])\n",
    "        t=0\n",
    "        for j in z:\n",
    "            t=t+j\n",
    "        t=round(t/k,2)\n",
    "        list1.append(t)\n",
    "        i=i+1\n",
    "    print(list1)"
   ]
  },
  {
   "cell_type": "code",
   "execution_count": 6,
   "id": "3239ac83",
   "metadata": {},
   "outputs": [
    {
     "name": "stdout",
     "output_type": "stream",
     "text": [
      "[5.0, 4.67, 5.67, 6.67, 9.67, 28.67, 49.33, 72.67, 84.0, 93.33, 116.33]\n"
     ]
    }
   ],
   "source": [
    "moving_average(x)"
   ]
  },
  {
   "cell_type": "code",
   "execution_count": null,
   "id": "a051074a",
   "metadata": {},
   "outputs": [],
   "source": []
  }
 ],
 "metadata": {
  "kernelspec": {
   "display_name": "Python 3",
   "language": "python",
   "name": "python3"
  },
  "language_info": {
   "codemirror_mode": {
    "name": "ipython",
    "version": 3
   },
   "file_extension": ".py",
   "mimetype": "text/x-python",
   "name": "python",
   "nbconvert_exporter": "python",
   "pygments_lexer": "ipython3",
   "version": "3.8.8"
  }
 },
 "nbformat": 4,
 "nbformat_minor": 5
}
